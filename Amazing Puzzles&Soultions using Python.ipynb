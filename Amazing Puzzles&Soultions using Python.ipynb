{
 "cells": [
  {
   "cell_type": "markdown",
   "metadata": {},
   "source": [
    "# Puzzles and Solutions"
   ]
  },
  {
   "cell_type": "code",
   "execution_count": 144,
   "metadata": {},
   "outputs": [
    {
     "data": {
      "text/plain": [
       "['as', 'df', 'ad', 'sf', 'g_']"
      ]
     },
     "execution_count": 144,
     "metadata": {},
     "output_type": "execute_result"
    }
   ],
   "source": [
    "# solution('abc') # should return ['ab', 'c_']\n",
    "# solution('abcdef') # should return ['ab', 'cd', 'ef']\n",
    "x='asdfadsfg'\n",
    "y=2\n",
    "def solution(x):\n",
    "    y=2\n",
    "    return [x[i:(i+y)] if len(x[i:(i+y)])==2 else x[i:(i+y)]+'_' for i in range(0,int(len(x)),2)]\n",
    "solutions(x)"
   ]
  },
  {
   "cell_type": "code",
   "execution_count": 9,
   "metadata": {},
   "outputs": [
    {
     "data": {
      "text/plain": [
       "'##############2348'"
      ]
     },
     "execution_count": 9,
     "metadata": {},
     "output_type": "execute_result"
    }
   ],
   "source": [
    "# cc = ''\n",
    "# r = maskify(cc)\n",
    "# test.describe(\"masking: {0}\".format(cc))\n",
    "# test.it(\"{0}  matches  {1}\".format(cc,r))\n",
    "# test.assert_equals(r, cc)\n",
    "\n",
    "# cc = '123'\n",
    "# r = maskify(cc)\n",
    "# test.describe(\"masking: {0}\".format(cc))\n",
    "# test.it(\"{0}  matches  {1}\".format(cc, r))\n",
    "# test.assert_equals(r, cc)\n",
    "\n",
    "# cc = 'SF$SDfgsd2eA'\n",
    "# r = maskify(cc)\n",
    "# test.describe(\"masking: {0}\".format(cc))\n",
    "# test.it(\"{0}  matches  {1}\".format('########d2eA', r))\n",
    "# test.assert_equals(r, '########d2eA')\n",
    "\n",
    "def maskify(tr):\n",
    "    if len(tr)>4:\n",
    "        return len(tr[:-4])*'#'+tr[-4:] \n",
    "    else:\n",
    "        return tr\n",
    "maskify('xxxxxxxx3656012348')"
   ]
  },
  {
   "cell_type": "code",
   "execution_count": 308,
   "metadata": {},
   "outputs": [],
   "source": [
    "grid =[[3, 0, 6, 5, 0, 8, 4, 0, 0],\n",
    "      [5, 2, 0, 0, 0, 0, 0, 0, 0],\n",
    "      [0, 8, 7, 0, 0, 0, 0, 3, 1],\n",
    "      [0, 0, 3, 0, 1, 0, 0, 8, 0],\n",
    "      [9, 0, 0, 8, 6, 3, 0, 0, 5],\n",
    "      [0, 5, 0, 0, 9, 0, 6, 0, 0],\n",
    "      [1, 3, 0, 0, 0, 0, 2, 5, 0],\n",
    "      [0, 0, 0, 0, 0, 0, 0, 7, 4],\n",
    "      [0, 0, 5, 2, 0, 6, 3, 0, 0]]"
   ]
  },
  {
   "cell_type": "code",
   "execution_count": 309,
   "metadata": {},
   "outputs": [
    {
     "data": {
      "text/plain": [
       "[[3, 0, 6, 5, 0, 8, 4, 0, 0],\n",
       " [5, 2, 0, 0, 0, 0, 0, 0, 0],\n",
       " [0, 8, 7, 0, 0, 0, 0, 3, 1],\n",
       " [0, 0, 3, 0, 1, 0, 0, 8, 0],\n",
       " [9, 0, 0, 8, 6, 3, 0, 0, 5],\n",
       " [0, 5, 0, 0, 9, 0, 6, 0, 0],\n",
       " [1, 3, 0, 0, 0, 0, 2, 5, 0],\n",
       " [0, 0, 0, 0, 0, 0, 0, 7, 4],\n",
       " [0, 0, 5, 2, 0, 6, 3, 0, 0]]"
      ]
     },
     "execution_count": 309,
     "metadata": {},
     "output_type": "execute_result"
    }
   ],
   "source": [
    "grid"
   ]
  },
  {
   "cell_type": "code",
   "execution_count": 311,
   "metadata": {},
   "outputs": [
    {
     "data": {
      "text/plain": [
       "range(0, 10000000)"
      ]
     },
     "execution_count": 311,
     "metadata": {},
     "output_type": "execute_result"
    }
   ],
   "source": [
    "range (10000000)"
   ]
  },
  {
   "cell_type": "code",
   "execution_count": 312,
   "metadata": {},
   "outputs": [],
   "source": [
    "# You are going to be given an array of integers. \n",
    "# Your job is to take that array and find an index N where the sum of the integers to the left of N is equal \n",
    "# to the sum of the integers to the right of N. If there is no index that would make this happen, return\n",
    "# Test.assert_equals(find_even_index([1,2,3,4,3,2,1]),3)\n",
    "# Test.assert_equals(find_even_index([1,100,50,-51,1,1]),1,)\n",
    "# Test.assert_equals(find_even_index([1,2,3,4,5,6]),-1)\n",
    "# Test.assert_equals(find_even_index([20,10,30,10,10,15,35]),3)\n",
    "# Test.assert_equals(find_even_index([20,10,-80,10,10,15,35]),0)\n",
    "# Test.assert_equals(find_even_index([10,-80,10,10,15,35,20]),6)\n",
    "# Test.assert_equals(find_even_index(list(range(1,100))),-1)\n",
    "# Test.assert_equals(find_even_index([0,0,0,0,0]),0,\"Should pick the first index if more cases are valid\")\n",
    "# Test.assert_equals(find_even_index([-1,-2,-3,-4,-3,-2,-1]),3)\n",
    "# Test.assert_equals(find_even_index(list(range(-100,-1))),-1)"
   ]
  },
  {
   "cell_type": "code",
   "execution_count": 344,
   "metadata": {},
   "outputs": [],
   "source": [
    "z=[-19, 10, 7, -14, 11, 19, 10, 11, 10, 4, 10, 10, 4, 10, 10, 15]"
   ]
  },
  {
   "cell_type": "code",
   "execution_count": 355,
   "metadata": {},
   "outputs": [],
   "source": [
    "def find_even_index(arr):\n",
    "    z=arr\n",
    "    for i in range(len(z)):\n",
    "        if sum(z[:i])==sum(z[i+1:]):\n",
    "            return(i)\n",
    "    return -1"
   ]
  },
  {
   "cell_type": "code",
   "execution_count": 10,
   "metadata": {},
   "outputs": [],
   "source": [
    "# Find all the jumping number in a given range"
   ]
  },
  {
   "cell_type": "code",
   "execution_count": 11,
   "metadata": {},
   "outputs": [
    {
     "name": "stderr",
     "output_type": "stream",
     "text": [
      "C:\\Users\\pg186028\\AppData\\Local\\Continuum\\anaconda3\\lib\\site-packages\\numpy\\_distributor_init.py:32: UserWarning: loaded more than 1 DLL from .libs:\n",
      "C:\\Users\\pg186028\\AppData\\Local\\Continuum\\anaconda3\\lib\\site-packages\\numpy\\.libs\\libopenblas.NOIJJG62EMASZI6NYURL6JBKM4EVBGM7.gfortran-win_amd64.dll\n",
      "C:\\Users\\pg186028\\AppData\\Local\\Continuum\\anaconda3\\lib\\site-packages\\numpy\\.libs\\libopenblas.PYQHXLVVQ7VESDPUVUADXEVJOBGHJPAY.gfortran-win_amd64.dll\n",
      "  stacklevel=1)\n"
     ]
    }
   ],
   "source": [
    "import numpy as np"
   ]
  },
  {
   "cell_type": "code",
   "execution_count": 12,
   "metadata": {},
   "outputs": [
    {
     "name": "stdout",
     "output_type": "stream",
     "text": [
      "100\n",
      "0 1 2 3 4 5 6 7 8 9 12 21 23 32 34 43 45 54 56 65 67 76 78 87 89 98 "
     ]
    }
   ],
   "source": [
    "#strategy\n",
    "#Shift list 1 one posiotion , remove the last digit and substract the 2 list\n",
    "import numpy as np\n",
    "for_val=input()\n",
    "out=[]\n",
    "for x in range(int(for_val)+1):\n",
    "    if x <10:\n",
    "        out.append(x)\n",
    "    elif x>10:\n",
    "        y=list(str(x))\n",
    "        z=list(str(x))\n",
    "        z.reverse()\n",
    "        z.append(0)\n",
    "        z.reverse()\n",
    "        y.pop(0)\n",
    "        z.pop(0)\n",
    "        z.pop(-1)\n",
    "        alpha=[abs(int(x[0])-int(x[1])) for x in zip(y,z)]\n",
    "        if len(list(np.unique([abs(int(x[0])-int(x[1])) for x in zip(y,z)])))==1 and np.unique([abs(int(x[0])-int(x[1])) for x in zip(y,z)])[0]==1:\n",
    "            out.append(x)\n",
    "for i in out:\n",
    "    print (i, end=\" \")"
   ]
  },
  {
   "cell_type": "code",
   "execution_count": 13,
   "metadata": {},
   "outputs": [
    {
     "name": "stdout",
     "output_type": "stream",
     "text": [
      "a\n",
      "a\n",
      "b\n",
      "c\n",
      "f\n",
      "a\n"
     ]
    }
   ],
   "source": [
    "# find duplicate characters in string\n",
    "x='aaabbbcdefffabc'\n",
    "y=[x for x in x]\n",
    "y\n",
    "for i,j in enumerate(y):\n",
    "    p=y.pop(i)\n",
    "    if j in y:\n",
    "        print(j)"
   ]
  },
  {
   "cell_type": "markdown",
   "metadata": {},
   "source": [
    "============================================="
   ]
  },
  {
   "cell_type": "markdown",
   "metadata": {},
   "source": [
    "==========================================\n",
    "SOLVE THE BELOW PROBLEM"
   ]
  },
  {
   "attachments": {
    "image.png": {
     "image/png": "[encoded data removed]"
    }
   },
   "cell_type": "markdown",
   "metadata": {},
   "source": [
    "![image.png](attachment:image.png)"
   ]
  },
  {
   "cell_type": "code",
   "execution_count": 83,
   "metadata": {},
   "outputs": [],
   "source": [
    "import itertools as its"
   ]
  },
  {
   "cell_type": "code",
   "execution_count": 96,
   "metadata": {},
   "outputs": [
    {
     "name": "stdout",
     "output_type": "stream",
     "text": [
      "(2, 1, 3, 4)\n"
     ]
    }
   ],
   "source": [
    "for i in its.permutations([1,2,3,4]):\n",
    "    if (i[0]+0+i[1])==3 and (i[2]+i[3]+3)==10:\n",
    "        if i[0]+i[2]==5 and i[3]==4 and i[1]+3==4:\n",
    "            print(i)\n",
    "        "
   ]
  },
  {
   "cell_type": "markdown",
   "metadata": {},
   "source": [
    "====================================================\n",
    "===================================================="
   ]
  },
  {
   "attachments": {
    "image.png": {
     "image/png": "[encoded data removed]"
    }
   },
   "cell_type": "markdown",
   "metadata": {},
   "source": [
    "NOW solve this using python , IS IT POSSIBLE.\n",
    "![image.png](attachment:image.png)\n",
    "HOW :\n",
    "\n",
    "-- create permutation \n",
    "\n",
    "-- use itertools permutation method and itreate through all the combination"
   ]
  },
  {
   "cell_type": "markdown",
   "metadata": {},
   "source": [
    "================================================================="
   ]
  },
  {
   "cell_type": "code",
   "execution_count": 8,
   "metadata": {},
   "outputs": [],
   "source": [
    "# index of the first non-negative integer in a sorted list. Use Logarithmic solution\n",
    "# nums = [-4,-1,0,0,1,3,10]"
   ]
  },
  {
   "cell_type": "code",
   "execution_count": 9,
   "metadata": {},
   "outputs": [
    {
     "data": {
      "text/plain": [
       "1"
      ]
     },
     "execution_count": 9,
     "metadata": {},
     "output_type": "execute_result"
    }
   ],
   "source": [
    "from bisect import bisect_right\n",
    "nums = [-4,-1,0,0,1,3,10]\n",
    "index = bisect_right(nums, 0)\n",
    "# 4 -- the index\n",
    "nums[index]\n",
    "# 1 -- the number at that index"
   ]
  },
  {
   "cell_type": "markdown",
   "metadata": {},
   "source": [
    "================================================================="
   ]
  },
  {
   "cell_type": "markdown",
   "metadata": {},
   "source": [
    "#### My solution to \"Hacker Rank: New Year Caos\" problem uncomment the print statement to see the solution in action\n",
    "#### ============================================================================================\n",
    "https://www.hackerrank.com/challenges/new-year-chaos/problem\n",
    "##### P.S. My Approach to substract value and position from each other to find the bribes paid has an exception if a number lower than bigeest int paid bribe in last "
   ]
  },
  {
   "cell_type": "code",
   "execution_count": 8,
   "metadata": {},
   "outputs": [
    {
     "name": "stdout",
     "output_type": "stream",
     "text": [
      "2\n",
      "8\n",
      "5 1 2 3 7 8 6 4\n",
      "Too chaotic\n",
      "8\n",
      "1 2 5 3 7 8 6 4\n",
      "7\n"
     ]
    }
   ],
   "source": [
    "import os\n",
    "import random\n",
    "import re\n",
    "import sys\n",
    "\n",
    "# Complete the minimumBribes function below.\n",
    "def minimumBribes(q):\n",
    "    bribePayed=0\n",
    "    x=len(q)\n",
    "    y=0\n",
    "    chaotic=0\n",
    "    itr=list(range(1,n+1))\n",
    "    # why check all the value , break on 1st case where more than 2 bribes are paid\n",
    "    for i in range(len(itr)):\n",
    "        if(q[i]-itr[i])>=3:\n",
    "            chaotic=-1\n",
    "            break\n",
    "\n",
    "    if chaotic==-1:\n",
    "        return(\"Too chaotic\")\n",
    "    else:\n",
    "        #run till length of []-1 , -1 because I have started from 1 and list position starts from 0\n",
    "        while y<len(q)-1:\n",
    "            y=0\n",
    "            for i in range(1,x,1):\n",
    "            #swap if next position has value greater than current position\n",
    "            # if no such position is found , y will reach to 4 ( through else ) and while will exit\n",
    "                if q[i-1]>q[i]:\n",
    "                    q[i-1],q[i]=q[i],q[i-1]\n",
    "                    bribePayed=bribePayed+1\n",
    "                else:\n",
    "                    y=y+1\n",
    "                #print(bribePayed,y,i,q)\n",
    "        return(bribePayed)\n",
    "        \n",
    "        \n",
    "if __name__ == '__main__':\n",
    "    t = int(input())\n",
    "\n",
    "    for t_itr in range(t):        \n",
    "        n = int(input())\n",
    "        q = list(map(int, input().rstrip().split()))\n",
    "        print(minimumBribes(q))"
   ]
  },
  {
   "cell_type": "code",
   "execution_count": null,
   "metadata": {},
   "outputs": [],
   "source": [
    "#How many methods you can find to solve below problem (war of code) actual problem is very easy\n",
    "# If True represents sheeps in group , count no of sheep in list sheep\n",
    "# What all methods you can uses\n",
    "# sheep=[\n",
    "#       True, True, True, False, True, True, True, True, \n",
    "#          True, False, True, False, True, False, False, \n",
    "#       True, True, True, True, True, False, False, True, True\n",
    "#      ]"
   ]
  },
  {
   "cell_type": "code",
   "execution_count": 1,
   "metadata": {},
   "outputs": [],
   "source": [
    "sheep=[\n",
    "       True, True, True, False, True, True, True, True, \n",
    "          True, False, True, False, True, False, False, \n",
    "       True, True, True, True, True, False, False, True, True\n",
    "      ]"
   ]
  },
  {
   "cell_type": "code",
   "execution_count": 31,
   "metadata": {},
   "outputs": [],
   "source": [
    "def count_sheeps(sheep):\n",
    "  return len([i for i in sheep if bool(i)])"
   ]
  },
  {
   "cell_type": "code",
   "execution_count": 2,
   "metadata": {},
   "outputs": [],
   "source": [
    "def count_sheeps(sheep):\n",
    "  return sheep.count(True)"
   ]
  },
  {
   "cell_type": "code",
   "execution_count": 34,
   "metadata": {},
   "outputs": [],
   "source": [
    "# this will be more generalized you can count more no of animals with dictionay mapping\n",
    "def count_sheeps(sheep): \n",
    "  tfm={True:1,False:0}\n",
    "  return sum((tfm[x] for x in sheep))"
   ]
  },
  {
   "cell_type": "code",
   "execution_count": 57,
   "metadata": {},
   "outputs": [],
   "source": [
    "#better O(n) , only one traversing............what else ?\n",
    "def count_sheeps(sheep): \n",
    "    i=0\n",
    "    for x in sheep:\n",
    "        if bool(x):\n",
    "            i=i+1\n",
    "    return i"
   ]
  },
  {
   "cell_type": "code",
   "execution_count": 58,
   "metadata": {},
   "outputs": [
    {
     "data": {
      "text/plain": [
       "17"
      ]
     },
     "execution_count": 58,
     "metadata": {},
     "output_type": "execute_result"
    }
   ],
   "source": [
    "count_sheeps(sheep)"
   ]
  },
  {
   "cell_type": "code",
   "execution_count": null,
   "metadata": {},
   "outputs": [],
   "source": []
  }
 ],
 "metadata": {
  "kernelspec": {
   "display_name": "Python 3",
   "language": "python",
   "name": "python3"
  },
  "language_info": {
   "codemirror_mode": {
    "name": "ipython",
    "version": 3
   },
   "file_extension": ".py",
   "mimetype": "text/x-python",
   "name": "python",
   "nbconvert_exporter": "python",
   "pygments_lexer": "ipython3",
   "version": "3.7.4"
  }
 },
 "nbformat": 4,
 "nbformat_minor": 2
}
